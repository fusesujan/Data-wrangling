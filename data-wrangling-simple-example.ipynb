{
 "cells": [
  {
   "cell_type": "markdown",
   "metadata": {},
   "source": [
    "## Data wrangling example"
   ]
  },
  {
   "cell_type": "markdown",
   "metadata": {},
   "source": [
    "#### Data wrangling with pandas,python - On Employee Details dataset\n",
    "\n",
    "Lets assume the data is collected through employee via different sources."
   ]
  },
  {
   "cell_type": "code",
   "execution_count": 49,
   "metadata": {},
   "outputs": [
    {
     "data": {
      "text/html": [
       "<div>\n",
       "<style scoped>\n",
       "    .dataframe tbody tr th:only-of-type {\n",
       "        vertical-align: middle;\n",
       "    }\n",
       "\n",
       "    .dataframe tbody tr th {\n",
       "        vertical-align: top;\n",
       "    }\n",
       "\n",
       "    .dataframe thead th {\n",
       "        text-align: right;\n",
       "    }\n",
       "</style>\n",
       "<table border=\"1\" class=\"dataframe\">\n",
       "  <thead>\n",
       "    <tr style=\"text-align: right;\">\n",
       "      <th></th>\n",
       "      <th>Name</th>\n",
       "      <th>Phone</th>\n",
       "      <th>Address</th>\n",
       "      <th>Birth Date</th>\n",
       "      <th>Joined Date</th>\n",
       "    </tr>\n",
       "  </thead>\n",
       "  <tbody>\n",
       "    <tr>\n",
       "      <th>0</th>\n",
       "      <td>Sharma, Sujan</td>\n",
       "      <td>98(65005564)</td>\n",
       "      <td>Lalitpur, Balkumari</td>\n",
       "      <td>April 1, 1999</td>\n",
       "      <td>6-04-2020</td>\n",
       "    </tr>\n",
       "    <tr>\n",
       "      <th>1</th>\n",
       "      <td>Shrestha, Diwas</td>\n",
       "      <td>+977 9876543210</td>\n",
       "      <td>Kathmandu, Baneshwor</td>\n",
       "      <td>11/14/1998</td>\n",
       "      <td>12 September 2020</td>\n",
       "    </tr>\n",
       "    <tr>\n",
       "      <th>2</th>\n",
       "      <td>Acharya, Santosh</td>\n",
       "      <td>98-53426251</td>\n",
       "      <td>Chahabil, Kathmandu</td>\n",
       "      <td>12 September 2000</td>\n",
       "      <td>1/14/2023</td>\n",
       "    </tr>\n",
       "    <tr>\n",
       "      <th>3</th>\n",
       "      <td>Dhungel, Shashank</td>\n",
       "      <td>9864536294</td>\n",
       "      <td>Kathmandu, Maitidevi</td>\n",
       "      <td>6-04-1999</td>\n",
       "      <td>August 1, 2023</td>\n",
       "    </tr>\n",
       "  </tbody>\n",
       "</table>\n",
       "</div>"
      ],
      "text/plain": [
       "                Name            Phone               Address  \\\n",
       "0      Sharma, Sujan     98(65005564)   Lalitpur, Balkumari   \n",
       "1    Shrestha, Diwas  +977 9876543210  Kathmandu, Baneshwor   \n",
       "2  Acharya, Santosh       98-53426251   Chahabil, Kathmandu   \n",
       "3  Dhungel, Shashank       9864536294  Kathmandu, Maitidevi   \n",
       "\n",
       "          Birth Date        Joined Date  \n",
       "0      April 1, 1999          6-04-2020  \n",
       "1         11/14/1998  12 September 2020  \n",
       "2  12 September 2000          1/14/2023  \n",
       "3          6-04-1999     August 1, 2023  "
      ]
     },
     "execution_count": 49,
     "metadata": {},
     "output_type": "execute_result"
    }
   ],
   "source": [
    "import pandas as pd\n",
    "\n",
    "data = {\n",
    "    \"Name\": [\"Sharma, Sujan\", \"Shrestha, Diwas\", \"Acharya, Santosh \", \"Dhungel, Shashank\"],\n",
    "    \"Phone\": [\"98(65005564)\", \"+977 9876543210\", \"98-53426251\", \"9864536294\"],\n",
    "    \"Address\": [\"Lalitpur, Balkumari\", \"Kathmandu, Baneshwor\", \"Chahabil, Kathmandu\",\"Kathmandu, Maitidevi\"],\n",
    "    \"Birth Date\": [\"April 1, 1999\", \"11/14/1998\", \"12 September 2000\", \"6-04-1999\"],\n",
    "    \"Joined Date\": [\"6-04-2020\",\"12 September 2020\", \"1/14/2023\",\"August 1, 2023\" ]\n",
    "}\n",
    "\n",
    "df = pd.DataFrame(data)\n",
    "\n",
    "df"
   ]
  },
  {
   "cell_type": "markdown",
   "metadata": {},
   "source": [
    "Formating the Name."
   ]
  },
  {
   "cell_type": "code",
   "execution_count": 50,
   "metadata": {},
   "outputs": [
    {
     "data": {
      "text/html": [
       "<div>\n",
       "<style scoped>\n",
       "    .dataframe tbody tr th:only-of-type {\n",
       "        vertical-align: middle;\n",
       "    }\n",
       "\n",
       "    .dataframe tbody tr th {\n",
       "        vertical-align: top;\n",
       "    }\n",
       "\n",
       "    .dataframe thead th {\n",
       "        text-align: right;\n",
       "    }\n",
       "</style>\n",
       "<table border=\"1\" class=\"dataframe\">\n",
       "  <thead>\n",
       "    <tr style=\"text-align: right;\">\n",
       "      <th></th>\n",
       "      <th>Name</th>\n",
       "      <th>Phone</th>\n",
       "      <th>Address</th>\n",
       "      <th>Birth Date</th>\n",
       "      <th>Joined Date</th>\n",
       "    </tr>\n",
       "  </thead>\n",
       "  <tbody>\n",
       "    <tr>\n",
       "      <th>0</th>\n",
       "      <td>Sujan Sharma</td>\n",
       "      <td>98(65005564)</td>\n",
       "      <td>Lalitpur, Balkumari</td>\n",
       "      <td>April 1, 1999</td>\n",
       "      <td>6-04-2020</td>\n",
       "    </tr>\n",
       "    <tr>\n",
       "      <th>1</th>\n",
       "      <td>Diwas Shrestha</td>\n",
       "      <td>+977 9876543210</td>\n",
       "      <td>Kathmandu, Baneshwor</td>\n",
       "      <td>11/14/1998</td>\n",
       "      <td>12 September 2020</td>\n",
       "    </tr>\n",
       "    <tr>\n",
       "      <th>2</th>\n",
       "      <td>Santosh  Acharya</td>\n",
       "      <td>98-53426251</td>\n",
       "      <td>Chahabil, Kathmandu</td>\n",
       "      <td>12 September 2000</td>\n",
       "      <td>1/14/2023</td>\n",
       "    </tr>\n",
       "    <tr>\n",
       "      <th>3</th>\n",
       "      <td>Shashank Dhungel</td>\n",
       "      <td>9864536294</td>\n",
       "      <td>Kathmandu, Maitidevi</td>\n",
       "      <td>6-04-1999</td>\n",
       "      <td>August 1, 2023</td>\n",
       "    </tr>\n",
       "  </tbody>\n",
       "</table>\n",
       "</div>"
      ],
      "text/plain": [
       "               Name            Phone               Address         Birth Date  \\\n",
       "0      Sujan Sharma     98(65005564)   Lalitpur, Balkumari      April 1, 1999   \n",
       "1    Diwas Shrestha  +977 9876543210  Kathmandu, Baneshwor         11/14/1998   \n",
       "2  Santosh  Acharya      98-53426251   Chahabil, Kathmandu  12 September 2000   \n",
       "3  Shashank Dhungel       9864536294  Kathmandu, Maitidevi          6-04-1999   \n",
       "\n",
       "         Joined Date  \n",
       "0          6-04-2020  \n",
       "1  12 September 2020  \n",
       "2          1/14/2023  \n",
       "3     August 1, 2023  "
      ]
     },
     "execution_count": 50,
     "metadata": {},
     "output_type": "execute_result"
    }
   ],
   "source": [
    "df['Name'] = df['Name'].str.split(', ').str[::-1].str.join(' ')\n",
    "\n",
    "df"
   ]
  },
  {
   "cell_type": "markdown",
   "metadata": {},
   "source": [
    "Formating the Phone to Actual 10 no."
   ]
  },
  {
   "cell_type": "code",
   "execution_count": 51,
   "metadata": {},
   "outputs": [
    {
     "data": {
      "text/html": [
       "<div>\n",
       "<style scoped>\n",
       "    .dataframe tbody tr th:only-of-type {\n",
       "        vertical-align: middle;\n",
       "    }\n",
       "\n",
       "    .dataframe tbody tr th {\n",
       "        vertical-align: top;\n",
       "    }\n",
       "\n",
       "    .dataframe thead th {\n",
       "        text-align: right;\n",
       "    }\n",
       "</style>\n",
       "<table border=\"1\" class=\"dataframe\">\n",
       "  <thead>\n",
       "    <tr style=\"text-align: right;\">\n",
       "      <th></th>\n",
       "      <th>Name</th>\n",
       "      <th>Phone</th>\n",
       "      <th>Address</th>\n",
       "      <th>Birth Date</th>\n",
       "      <th>Joined Date</th>\n",
       "    </tr>\n",
       "  </thead>\n",
       "  <tbody>\n",
       "    <tr>\n",
       "      <th>0</th>\n",
       "      <td>Sujan Sharma</td>\n",
       "      <td>9865005564</td>\n",
       "      <td>Lalitpur, Balkumari</td>\n",
       "      <td>April 1, 1999</td>\n",
       "      <td>6-04-2020</td>\n",
       "    </tr>\n",
       "    <tr>\n",
       "      <th>1</th>\n",
       "      <td>Diwas Shrestha</td>\n",
       "      <td>9876543210</td>\n",
       "      <td>Kathmandu, Baneshwor</td>\n",
       "      <td>11/14/1998</td>\n",
       "      <td>12 September 2020</td>\n",
       "    </tr>\n",
       "    <tr>\n",
       "      <th>2</th>\n",
       "      <td>Santosh  Acharya</td>\n",
       "      <td>9853426251</td>\n",
       "      <td>Chahabil, Kathmandu</td>\n",
       "      <td>12 September 2000</td>\n",
       "      <td>1/14/2023</td>\n",
       "    </tr>\n",
       "    <tr>\n",
       "      <th>3</th>\n",
       "      <td>Shashank Dhungel</td>\n",
       "      <td>9864536294</td>\n",
       "      <td>Kathmandu, Maitidevi</td>\n",
       "      <td>6-04-1999</td>\n",
       "      <td>August 1, 2023</td>\n",
       "    </tr>\n",
       "  </tbody>\n",
       "</table>\n",
       "</div>"
      ],
      "text/plain": [
       "               Name       Phone               Address         Birth Date  \\\n",
       "0      Sujan Sharma  9865005564   Lalitpur, Balkumari      April 1, 1999   \n",
       "1    Diwas Shrestha  9876543210  Kathmandu, Baneshwor         11/14/1998   \n",
       "2  Santosh  Acharya  9853426251   Chahabil, Kathmandu  12 September 2000   \n",
       "3  Shashank Dhungel  9864536294  Kathmandu, Maitidevi          6-04-1999   \n",
       "\n",
       "         Joined Date  \n",
       "0          6-04-2020  \n",
       "1  12 September 2020  \n",
       "2          1/14/2023  \n",
       "3     August 1, 2023  "
      ]
     },
     "execution_count": 51,
     "metadata": {},
     "output_type": "execute_result"
    }
   ],
   "source": [
    "df['Phone'] = df['Phone'].str.replace(r'^\\+977\\s*', '', regex=True)\n",
    "df['Phone'] = df['Phone'].str.replace(r'\\D', '', regex=True)\n",
    "df"
   ]
  },
  {
   "cell_type": "markdown",
   "metadata": {},
   "source": [
    "Formating the Date to  actual date format"
   ]
  },
  {
   "cell_type": "code",
   "execution_count": 52,
   "metadata": {},
   "outputs": [
    {
     "data": {
      "text/html": [
       "<div>\n",
       "<style scoped>\n",
       "    .dataframe tbody tr th:only-of-type {\n",
       "        vertical-align: middle;\n",
       "    }\n",
       "\n",
       "    .dataframe tbody tr th {\n",
       "        vertical-align: top;\n",
       "    }\n",
       "\n",
       "    .dataframe thead th {\n",
       "        text-align: right;\n",
       "    }\n",
       "</style>\n",
       "<table border=\"1\" class=\"dataframe\">\n",
       "  <thead>\n",
       "    <tr style=\"text-align: right;\">\n",
       "      <th></th>\n",
       "      <th>Name</th>\n",
       "      <th>Phone</th>\n",
       "      <th>Address</th>\n",
       "      <th>Birth Date</th>\n",
       "      <th>Joined Date</th>\n",
       "    </tr>\n",
       "  </thead>\n",
       "  <tbody>\n",
       "    <tr>\n",
       "      <th>0</th>\n",
       "      <td>Sujan Sharma</td>\n",
       "      <td>9865005564</td>\n",
       "      <td>Lalitpur, Balkumari</td>\n",
       "      <td>1999-04-01</td>\n",
       "      <td>2020-06-04</td>\n",
       "    </tr>\n",
       "    <tr>\n",
       "      <th>1</th>\n",
       "      <td>Diwas Shrestha</td>\n",
       "      <td>9876543210</td>\n",
       "      <td>Kathmandu, Baneshwor</td>\n",
       "      <td>1998-11-14</td>\n",
       "      <td>2020-09-12</td>\n",
       "    </tr>\n",
       "    <tr>\n",
       "      <th>2</th>\n",
       "      <td>Santosh  Acharya</td>\n",
       "      <td>9853426251</td>\n",
       "      <td>Chahabil, Kathmandu</td>\n",
       "      <td>2000-09-12</td>\n",
       "      <td>2023-01-14</td>\n",
       "    </tr>\n",
       "    <tr>\n",
       "      <th>3</th>\n",
       "      <td>Shashank Dhungel</td>\n",
       "      <td>9864536294</td>\n",
       "      <td>Kathmandu, Maitidevi</td>\n",
       "      <td>1999-06-04</td>\n",
       "      <td>2023-08-01</td>\n",
       "    </tr>\n",
       "  </tbody>\n",
       "</table>\n",
       "</div>"
      ],
      "text/plain": [
       "               Name       Phone               Address  Birth Date Joined Date\n",
       "0      Sujan Sharma  9865005564   Lalitpur, Balkumari  1999-04-01  2020-06-04\n",
       "1    Diwas Shrestha  9876543210  Kathmandu, Baneshwor  1998-11-14  2020-09-12\n",
       "2  Santosh  Acharya  9853426251   Chahabil, Kathmandu  2000-09-12  2023-01-14\n",
       "3  Shashank Dhungel  9864536294  Kathmandu, Maitidevi  1999-06-04  2023-08-01"
      ]
     },
     "execution_count": 52,
     "metadata": {},
     "output_type": "execute_result"
    }
   ],
   "source": [
    "df['Birth Date'] = pd.to_datetime(df['Birth Date'])\n",
    "df['Birth Date'] = df['Birth Date'].dt.strftime('%Y-%m-%d')\n",
    "df['Joined Date'] = pd.to_datetime(df['Joined Date'])\n",
    "df['Joined Date']  = df['Joined Date'].dt.strftime('%Y-%m-%d')\n",
    "df"
   ]
  },
  {
   "cell_type": "markdown",
   "metadata": {},
   "source": [
    "Formating the Address to the `location, District` format"
   ]
  },
  {
   "cell_type": "code",
   "execution_count": 54,
   "metadata": {},
   "outputs": [
    {
     "data": {
      "text/html": [
       "<div>\n",
       "<style scoped>\n",
       "    .dataframe tbody tr th:only-of-type {\n",
       "        vertical-align: middle;\n",
       "    }\n",
       "\n",
       "    .dataframe tbody tr th {\n",
       "        vertical-align: top;\n",
       "    }\n",
       "\n",
       "    .dataframe thead th {\n",
       "        text-align: right;\n",
       "    }\n",
       "</style>\n",
       "<table border=\"1\" class=\"dataframe\">\n",
       "  <thead>\n",
       "    <tr style=\"text-align: right;\">\n",
       "      <th></th>\n",
       "      <th>Name</th>\n",
       "      <th>Phone</th>\n",
       "      <th>Address</th>\n",
       "      <th>Birth Date</th>\n",
       "      <th>Joined Date</th>\n",
       "    </tr>\n",
       "  </thead>\n",
       "  <tbody>\n",
       "    <tr>\n",
       "      <th>0</th>\n",
       "      <td>Sujan Sharma</td>\n",
       "      <td>9865005564</td>\n",
       "      <td>Lalitpur, Balkumari</td>\n",
       "      <td>1999-04-01</td>\n",
       "      <td>2020-06-04</td>\n",
       "    </tr>\n",
       "    <tr>\n",
       "      <th>1</th>\n",
       "      <td>Diwas Shrestha</td>\n",
       "      <td>9876543210</td>\n",
       "      <td>Kathmandu, Baneshwor</td>\n",
       "      <td>1998-11-14</td>\n",
       "      <td>2020-09-12</td>\n",
       "    </tr>\n",
       "    <tr>\n",
       "      <th>2</th>\n",
       "      <td>Santosh  Acharya</td>\n",
       "      <td>9853426251</td>\n",
       "      <td>Chahabil, Kathmandu</td>\n",
       "      <td>2000-09-12</td>\n",
       "      <td>2023-01-14</td>\n",
       "    </tr>\n",
       "    <tr>\n",
       "      <th>3</th>\n",
       "      <td>Shashank Dhungel</td>\n",
       "      <td>9864536294</td>\n",
       "      <td>Kathmandu, Maitidevi</td>\n",
       "      <td>1999-06-04</td>\n",
       "      <td>2023-08-01</td>\n",
       "    </tr>\n",
       "  </tbody>\n",
       "</table>\n",
       "</div>"
      ],
      "text/plain": [
       "               Name       Phone               Address  Birth Date Joined Date\n",
       "0      Sujan Sharma  9865005564   Lalitpur, Balkumari  1999-04-01  2020-06-04\n",
       "1    Diwas Shrestha  9876543210  Kathmandu, Baneshwor  1998-11-14  2020-09-12\n",
       "2  Santosh  Acharya  9853426251   Chahabil, Kathmandu  2000-09-12  2023-01-14\n",
       "3  Shashank Dhungel  9864536294  Kathmandu, Maitidevi  1999-06-04  2023-08-01"
      ]
     },
     "execution_count": 54,
     "metadata": {},
     "output_type": "execute_result"
    }
   ],
   "source": [
    "df['Address'] = df['Address'].apply(lambda x: ', '.join(reversed(x.split(', '))))\n",
    "df"
   ]
  },
  {
   "cell_type": "markdown",
   "metadata": {},
   "source": [
    "## So as we have prepared the data into easy readable and right format. "
   ]
  },
  {
   "cell_type": "code",
   "execution_count": null,
   "metadata": {},
   "outputs": [],
   "source": []
  }
 ],
 "metadata": {
  "kernelspec": {
   "display_name": "Python 3",
   "language": "python",
   "name": "python3"
  },
  "language_info": {
   "codemirror_mode": {
    "name": "ipython",
    "version": 3
   },
   "file_extension": ".py",
   "mimetype": "text/x-python",
   "name": "python",
   "nbconvert_exporter": "python",
   "pygments_lexer": "ipython3",
   "version": "3.8.10"
  },
  "orig_nbformat": 4
 },
 "nbformat": 4,
 "nbformat_minor": 2
}
